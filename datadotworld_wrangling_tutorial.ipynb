{
 "cells": [
  {
   "cell_type": "markdown",
   "metadata": {
    "toc": "true"
   },
   "source": [
    "# Table of Contents\n",
    " <p><div class=\"lev1 toc-item\"><a href=\"#5-Useful-Data-Wrangling-Techniques-Using-Python-Pandas-and-data.world\" data-toc-modified-id=\"5-Useful-Data-Wrangling-Techniques-Using-Python-Pandas-and-data.world-1\"><span class=\"toc-item-num\">1&nbsp;&nbsp;</span>5 Useful Data Wrangling Techniques Using Python Pandas and data.world</a></div><div class=\"lev2 toc-item\"><a href=\"#Intro\" data-toc-modified-id=\"Intro-11\"><span class=\"toc-item-num\">1.1&nbsp;&nbsp;</span>Intro</a></div><div class=\"lev3 toc-item\"><a href=\"#This-notebook-demonstrates-a-collection-of-data-wrangling-problems-I-frequently-encounter,-and-my-approaches-to-solving-them.\" data-toc-modified-id=\"This-notebook-demonstrates-a-collection-of-data-wrangling-problems-I-frequently-encounter,-and-my-approaches-to-solving-them.-111\"><span class=\"toc-item-num\">1.1.1&nbsp;&nbsp;</span>This notebook demonstrates a collection of data wrangling problems I frequently encounter, and my approaches to solving them.</a></div><div class=\"lev3 toc-item\"><a href=\"#Agenda\" data-toc-modified-id=\"Agenda-112\"><span class=\"toc-item-num\">1.1.2&nbsp;&nbsp;</span>Agenda</a></div><div class=\"lev3 toc-item\"><a href=\"#Dependencies\" data-toc-modified-id=\"Dependencies-113\"><span class=\"toc-item-num\">1.1.3&nbsp;&nbsp;</span>Dependencies</a></div><div class=\"lev3 toc-item\"><a href=\"#Import-Packages\" data-toc-modified-id=\"Import-Packages-114\"><span class=\"toc-item-num\">1.1.4&nbsp;&nbsp;</span>Import Packages</a></div><div class=\"lev1 toc-item\"><a href=\"#Data-Wrangling-Techniques\" data-toc-modified-id=\"Data-Wrangling-Techniques-2\"><span class=\"toc-item-num\">2&nbsp;&nbsp;</span>Data Wrangling Techniques</a></div><div class=\"lev2 toc-item\"><a href=\"#1.-Standardize-a-large,-messy-datetime-column\" data-toc-modified-id=\"1.-Standardize-a-large,-messy-datetime-column-21\"><span class=\"toc-item-num\">2.1&nbsp;&nbsp;</span>1. Standardize a large, messy datetime column</a></div><div class=\"lev4 toc-item\"><a href=\"#1.-Copy-and-past-URL\" data-toc-modified-id=\"1.-Copy-and-past-URL-2101\"><span class=\"toc-item-num\">2.1.0.1&nbsp;&nbsp;</span>1. Copy and past URL</a></div><div class=\"lev4 toc-item\"><a href=\"#2.-Use-the-load_dataset-function-in-datadotworld-python-package\" data-toc-modified-id=\"2.-Use-the-load_dataset-function-in-datadotworld-python-package-2102\"><span class=\"toc-item-num\">2.1.0.2&nbsp;&nbsp;</span>2. Use the <code>load_dataset</code> function in datadotworld python package</a></div><div class=\"lev2 toc-item\"><a href=\"#2.-Changing-time-zones\" data-toc-modified-id=\"2.-Changing-time-zones-22\"><span class=\"toc-item-num\">2.2&nbsp;&nbsp;</span>2. Changing time zones</a></div><div class=\"lev2 toc-item\"><a href=\"#3.-&quot;Standardizing&quot;-text-(string)-columns\" data-toc-modified-id=\"3.-&quot;Standardizing&quot;-text-(string)-columns-23\"><span class=\"toc-item-num\">2.3&nbsp;&nbsp;</span>3. \"Standardizing\" text (string) columns</a></div><div class=\"lev2 toc-item\"><a href=\"#4.-Multiprocessing\" data-toc-modified-id=\"4.-Multiprocessing-24\"><span class=\"toc-item-num\">2.4&nbsp;&nbsp;</span>4. Multiprocessing</a></div><div class=\"lev2 toc-item\"><a href=\"#5.-Reshaping-dataframes-with-melt-&amp;-pivot\" data-toc-modified-id=\"5.-Reshaping-dataframes-with-melt-&amp;-pivot-25\"><span class=\"toc-item-num\">2.5&nbsp;&nbsp;</span>5. Reshaping dataframes with melt &amp; pivot</a></div>"
   ]
  },
  {
   "cell_type": "markdown",
   "metadata": {},
   "source": [
    "# 5 Useful Data Wrangling Techniques Using Python Pandas and data.world   \n",
    "## Intro\n",
    "### This notebook demonstrates a collection of data wrangling problems I frequently encounter, and my approaches to solving them.    \n",
    "What this tutorial **is not**: \n",
    "* a comprehensive tutorial on data wrangling\n",
    "* the only or even the best solutions    \n",
    "\n",
    "What this tutorial **is**:\n",
    "* fun and interesting (hopefully)\n",
    "* things I encounter often in my work\n",
    "* the best solutions I'm aware of (at this time)\n",
    "\n",
    "### Agenda\n",
    "1. Standardize a large, messy datetime column\n",
    "2. Change time zones\n",
    "3. \"Standardizing\" text (string) columns \n",
    "4. Multiprocessing\n",
    "5. Reshaping dataframes with melt, pivot, & groupby   \n",
    "\n",
    "### Dependencies     \n",
    "* We'll be using the following Python packages: pandas, numpy, matplotlib, fuzzywuzzy, time, pytz, re, and multiprocessing.     \n",
    "* The data is called using the datadotword Python package.    \n",
    "  * Instructions for installing and configuring for the first time: https://github.com/datadotworld/data.world-py and https://data.world/nrippner/explore-the-data-world-python-sdk.            \n",
    "  * If you installed datadotworld in the past, please ensure that you're using the latest version. In a terminal/command line enter:    \n",
    "  `pip install --upgrade datadotworld`"
   ]
  },
  {
   "cell_type": "markdown",
   "metadata": {},
   "source": [
    "### Import Packages"
   ]
  },
  {
   "cell_type": "code",
   "execution_count": 2,
   "metadata": {
    "collapsed": true
   },
   "outputs": [],
   "source": [
    "import pandas as pd               # data wrangling library\n",
    "import datadotworld as ddw        # data.world SDK\n",
    "import numpy as np                # data manipulation, math, linear algebra library\n",
    "import matplotlib.pyplot as plt   # matlab style data visualization library\n",
    "from fuzzywuzzy import process    # fuzzy string matching\n",
    "import time                       # to measure processing time\n",
    "import pytz                       # time zones\n",
    "import re                         # Python regex\n",
    "import multiprocessing as mp      # multicore distributed processing\n",
    "from __future__ import print_function\n",
    "\n",
    "%matplotlib inline"
   ]
  },
  {
   "cell_type": "code",
   "execution_count": 3,
   "metadata": {},
   "outputs": [
    {
     "name": "stdout",
     "output_type": "stream",
     "text": [
      "The watermark extension is already loaded. To reload it, use:\n",
      "  %reload_ext watermark\n",
      "Noah Rippner -- data scientist at data.world -- May, 2017 \n",
      "\n",
      "CPython 3.6.1\n",
      "IPython 6.1.0\n",
      "\n",
      "pandas 0.20.2\n",
      "numpy 1.12.1\n",
      "datadotworld 1.2.5\n",
      "fuzzywuzzy 0.15.0\n",
      "matplotlib 2.0.2\n"
     ]
    }
   ],
   "source": [
    "%load_ext watermark\n",
    "% watermark -a \"Noah Rippner -- data scientist at data.world -- May, 2017\" -v \\\n",
    "                             -p pandas,numpy,datadotworld,fuzzywuzzy,matplotlib"
   ]
  },
  {
   "cell_type": "markdown",
   "metadata": {},
   "source": [
    "# Data Wrangling Techniques\n",
    "\n",
    "## 1. Standardize a large, messy datetime column      \n",
    "Note, hat tip to data.world user @hipplec for suggesting this technique on a [thread in data.world](https://data.world/databrett/white-house-visitors-2015-6/discuss/data-preparation/7533)     \n",
    "For this example, we'll use some data I've hosted [here](https://data.world/nrippner/my-dataset) on data.world. The data table we're interested is a selection of three columns from the White House Visitor Logs dataset covering the years 2008 through 2016.     \n",
    "![wrang_tut_1.png](https://data.world/api/nrippner/dataset/images/file/raw/wrang_tut_1.png)\n",
    "\n",
    "We can see that the data file -- dates.csv -- has 3 columns and nearly 6 million rows.   \n",
    "First, let's import the data from data.world. I'll demonstrate two methods to efficiently import large datasets from data.world.\n",
    "\n",
    "#### 1. Copy and past URL     \n",
    "Due to the large size (6 million rows), we may want to use the \"Copy URL, Python/Pandas, or R code\" approach to importing this data into Python (as opposed to writing a query) to avoid the compute time associated with querying over so many cells. "
   ]
  },
  {
   "cell_type": "markdown",
   "metadata": {},
   "source": [
    "![wrang_tut_2.png](https://data.world/api/nrippner/dataset/images/file/raw/wrang_tut_2.png)"
   ]
  },
  {
   "cell_type": "code",
   "execution_count": 4,
   "metadata": {
    "collapsed": true
   },
   "outputs": [],
   "source": [
    "# paste results:\n",
    "dates_dataframe = pd.read_csv('https://query.data.world/s/hmbt8lm4cw6yj9vshigs178m')"
   ]
  },
  {
   "cell_type": "markdown",
   "metadata": {},
   "source": [
    "#### 2. Use the `load_dataset` function in datadotworld python package      \n",
    "This approach is highly optimized and convenient -- even with larger data files. Datasets are cached in a directory on your hard drive. "
   ]
  },
  {
   "cell_type": "code",
   "execution_count": 7,
   "metadata": {},
   "outputs": [],
   "source": [
    "dates = ddw.load_dataset('nrippner/my-dataset')\n",
    "dates_dataframe = dates.dataframes['dates']"
   ]
  },
  {
   "cell_type": "code",
   "execution_count": 9,
   "metadata": {},
   "outputs": [
    {
     "name": "stdout",
     "output_type": "stream",
     "text": [
      "(5914766, 3)\n"
     ]
    },
    {
     "data": {
      "text/html": [
       "<div>\n",
       "<style>\n",
       "    .dataframe thead tr:only-child th {\n",
       "        text-align: right;\n",
       "    }\n",
       "\n",
       "    .dataframe thead th {\n",
       "        text-align: left;\n",
       "    }\n",
       "\n",
       "    .dataframe tbody tr th {\n",
       "        vertical-align: top;\n",
       "    }\n",
       "</style>\n",
       "<table border=\"1\" class=\"dataframe\">\n",
       "  <thead>\n",
       "    <tr style=\"text-align: right;\">\n",
       "      <th></th>\n",
       "      <th>NAMEFIRST</th>\n",
       "      <th>NAMELAST</th>\n",
       "      <th>APPT_START_DATE</th>\n",
       "    </tr>\n",
       "  </thead>\n",
       "  <tbody>\n",
       "    <tr>\n",
       "      <th>0</th>\n",
       "      <td>Stella</td>\n",
       "      <td>Adamopoulos</td>\n",
       "      <td>5/1/15</td>\n",
       "    </tr>\n",
       "    <tr>\n",
       "      <th>1</th>\n",
       "      <td>Muriel</td>\n",
       "      <td>Brosman</td>\n",
       "      <td>5/1/15</td>\n",
       "    </tr>\n",
       "    <tr>\n",
       "      <th>2</th>\n",
       "      <td>Avery</td>\n",
       "      <td>Brumfield</td>\n",
       "      <td>5/1/15</td>\n",
       "    </tr>\n",
       "  </tbody>\n",
       "</table>\n",
       "</div>"
      ],
      "text/plain": [
       "  NAMEFIRST     NAMELAST APPT_START_DATE\n",
       "0    Stella  Adamopoulos          5/1/15\n",
       "1    Muriel      Brosman          5/1/15\n",
       "2     Avery    Brumfield          5/1/15"
      ]
     },
     "execution_count": 9,
     "metadata": {},
     "output_type": "execute_result"
    }
   ],
   "source": [
    "print(dates_dataframe.shape)\n",
    "dates_dataframe.head(3)"
   ]
  },
  {
   "cell_type": "markdown",
   "metadata": {},
   "source": [
    "Our objective now is to convert the `APPT_START_DATE column` to a Series of Pandas datetime objects. The column's dtype is currently numpy `object_` and the individual values are strings."
   ]
  },
  {
   "cell_type": "code",
   "execution_count": 10,
   "metadata": {},
   "outputs": [
    {
     "name": "stdout",
     "output_type": "stream",
     "text": [
      "object\n",
      "5/1/15 <class 'str'>\n"
     ]
    }
   ],
   "source": [
    "print(dates_dataframe.APPT_START_DATE.dtype)\n",
    "print(dates_dataframe.APPT_START_DATE[0], type(dates_dataframe.APPT_START_DATE[0]))"
   ]
  },
  {
   "cell_type": "markdown",
   "metadata": {},
   "source": [
    "This seems like it should be relatively simple -- we could just pass the `df.APPT_START_DATE` to the `pandas.to_datetime()` function. Let's try it on a slice made up of the first five percent of the data."
   ]
  },
  {
   "cell_type": "code",
   "execution_count": 11,
   "metadata": {},
   "outputs": [
    {
     "name": "stdout",
     "output_type": "stream",
     "text": [
      "44.35 seconds to complete 1/20 of the rows\n"
     ]
    }
   ],
   "source": [
    "start = time.time()\n",
    "test = pd.to_datetime(dates_dataframe.APPT_START_DATE[:295738])\n",
    "end = time.time()\n",
    "print(\"%.2f seconds to complete 1/20 of the rows\" % (end-start))"
   ]
  },
  {
   "cell_type": "code",
   "execution_count": 12,
   "metadata": {},
   "outputs": [
    {
     "name": "stdout",
     "output_type": "stream",
     "text": [
      "~ 14.8 minutes to complete all 5.9 million rows\n"
     ]
    }
   ],
   "source": [
    "print(\"~ %.1f minutes to complete all 5.9 million rows\" % (((end-start) * 20) / 60.0))"
   ]
  },
  {
   "cell_type": "markdown",
   "metadata": {},
   "source": [
    "Processing 1/20 of the data on my machine took 44 seconds. At that rate, all the rows will take 15 minutes. Let's see if we can speed it up.     "
   ]
  },
  {
   "cell_type": "code",
   "execution_count": 13,
   "metadata": {},
   "outputs": [
    {
     "name": "stdout",
     "output_type": "stream",
     "text": [
      "Number of rows: 5914766\n",
      "Number of unique dates: 158150\n",
      "38.3 seconds\n",
      "Couldn't be parsed: 162\n"
     ]
    }
   ],
   "source": [
    "print(\"Number of rows:\", dates_dataframe.shape[0])\n",
    "print(\"Number of unique dates:\", len(dates_dataframe.APPT_START_DATE.unique()))\n",
    "\n",
    "start = time.time() \n",
    "\n",
    "def lookup(series):\n",
    "    dates = {date:pd.to_datetime(date, errors='coerce') for date in series.unique()} \n",
    "    return series.map(dates)\n",
    "\n",
    "dates_dataframe['NewDate'] = lookup(dates_dataframe.APPT_START_DATE)\n",
    "\n",
    "end = time.time()\n",
    "\n",
    "print(\"%.1f seconds\" % (end-start))\n",
    "print(\"Couldn't be parsed:\", sum(dates_dataframe.NewDate.isnull()) - sum(dates_dataframe.APPT_START_DATE.isnull()) )   "
   ]
  },
  {
   "cell_type": "markdown",
   "metadata": {
    "collapsed": true
   },
   "source": [
    "In this example :\n",
    "* we define a function called `lookup` which is intended to take as its argument a Pandas Series\n",
    "* using `dictionary comprehension`, we iterate over each item in the set of unique values in our original series and map each to a `Pandas datetime` object created using the `to_datetime` function\n",
    "* the `errors='coerce'` parameter tells the `to_datetime` function to return `np.nan` for values for which a datetime format cannot be inferred\n",
    "* using the `pandas.Series.map` method, we return a new Series based on the key:value mappings in our dictionary comprehension.\n",
    "* using this approach, we finished in 38 seconds -- a 96% reduction in processing time!     "
   ]
  },
  {
   "cell_type": "code",
   "execution_count": 9,
   "metadata": {},
   "outputs": [
    {
     "data": {
      "text/html": [
       "<div>\n",
       "<style>\n",
       "    .dataframe thead tr:only-child th {\n",
       "        text-align: right;\n",
       "    }\n",
       "\n",
       "    .dataframe thead th {\n",
       "        text-align: left;\n",
       "    }\n",
       "\n",
       "    .dataframe tbody tr th {\n",
       "        vertical-align: top;\n",
       "    }\n",
       "</style>\n",
       "<table border=\"1\" class=\"dataframe\">\n",
       "  <thead>\n",
       "    <tr style=\"text-align: right;\">\n",
       "      <th></th>\n",
       "      <th>NAMEFIRST</th>\n",
       "      <th>NAMELAST</th>\n",
       "      <th>APPT_START_DATE</th>\n",
       "      <th>NewDate</th>\n",
       "    </tr>\n",
       "  </thead>\n",
       "  <tbody>\n",
       "    <tr>\n",
       "      <th>0</th>\n",
       "      <td>Stella</td>\n",
       "      <td>Adamopoulos</td>\n",
       "      <td>5/1/15</td>\n",
       "      <td>2015-05-01</td>\n",
       "    </tr>\n",
       "    <tr>\n",
       "      <th>1</th>\n",
       "      <td>Muriel</td>\n",
       "      <td>Brosman</td>\n",
       "      <td>5/1/15</td>\n",
       "      <td>2015-05-01</td>\n",
       "    </tr>\n",
       "    <tr>\n",
       "      <th>2</th>\n",
       "      <td>Avery</td>\n",
       "      <td>Brumfield</td>\n",
       "      <td>5/1/15</td>\n",
       "      <td>2015-05-01</td>\n",
       "    </tr>\n",
       "  </tbody>\n",
       "</table>\n",
       "</div>"
      ],
      "text/plain": [
       "  NAMEFIRST     NAMELAST APPT_START_DATE    NewDate\n",
       "0    Stella  Adamopoulos          5/1/15 2015-05-01\n",
       "1    Muriel      Brosman          5/1/15 2015-05-01\n",
       "2     Avery    Brumfield          5/1/15 2015-05-01"
      ]
     },
     "execution_count": 9,
     "metadata": {},
     "output_type": "execute_result"
    }
   ],
   "source": [
    "dates_dataframe.head(3)"
   ]
  },
  {
   "cell_type": "code",
   "execution_count": 10,
   "metadata": {},
   "outputs": [
    {
     "name": "stdout",
     "output_type": "stream",
     "text": [
      "<class 'pandas.core.frame.DataFrame'>\n",
      "RangeIndex: 5914767 entries, 0 to 5914766\n",
      "Data columns (total 4 columns):\n",
      "NAMEFIRST          object\n",
      "NAMELAST           object\n",
      "APPT_START_DATE    object\n",
      "NewDate            datetime64[ns]\n",
      "dtypes: datetime64[ns](1), object(3)\n",
      "memory usage: 180.5+ MB\n"
     ]
    }
   ],
   "source": [
    "dates_dataframe.info()"
   ]
  },
  {
   "cell_type": "markdown",
   "metadata": {},
   "source": [
    "**Before moving on**, let's think about what caused Pandas `to_datetime` to take so long (17 minutes). Pandas `to_datetime` is processor intensive because it attempts to infer timestamp format, but it can be drastically sped up by including an additional argument: \"_`format=`_\".     \n",
    "\n",
    "`new_series = pd.to_datetime(old_series, format=\"%Y/%m/%d\")`     \n",
    " \n",
    "By specifying the format via the `format=` parameter, the `to_datetime` algorithm skips the step of trying to infer the format, resulting in much shorter processing time. However, as we'll see, we could not use the format argument with this data.    \n",
    "\n",
    "Let's take a closer look at the datetime column."
   ]
  },
  {
   "cell_type": "code",
   "execution_count": 11,
   "metadata": {},
   "outputs": [
    {
     "data": {
      "text/plain": [
       "13    2058611\n",
       "12    1351583\n",
       "14    1339330\n",
       "15     754861\n",
       "11     258637\n",
       "16     112105\n",
       "8       13309\n",
       "7        9488\n",
       "10       8393\n",
       "9        4049\n",
       "6        1848\n",
       "19       1639\n",
       "20        581\n",
       "18        325\n",
       "1           3\n",
       "17          2\n",
       "3           2\n",
       "5           1\n",
       "dtype: int64"
      ]
     },
     "execution_count": 11,
     "metadata": {},
     "output_type": "execute_result"
    }
   ],
   "source": [
    "# helpful technique to look at composition of a column\n",
    "\n",
    "# use apply method to change each value to type string\n",
    "dates_dataframe['APPT_START_DATE'] = dates_dataframe.APPT_START_DATE.apply(lambda x: str(x))\n",
    "\n",
    "# dictionary comprehension to create list of the length of each datetime string\n",
    "lengths = [len(j) for _, j in enumerate(dates_dataframe.APPT_START_DATE.values)]\n",
    "\n",
    "# convert to pandas Series in order to use the value_counts method\n",
    "lengths = pd.Series(lengths).value_counts()\n",
    "\n",
    "lengths"
   ]
  },
  {
   "cell_type": "code",
   "execution_count": 12,
   "metadata": {},
   "outputs": [
    {
     "name": "stdout",
     "output_type": "stream",
     "text": [
      "Sample                  Length         Count     \n",
      "-----------------------------------------------------\n",
      "2/24/10 10:30           length: 13     count: 2058611\n",
      "3/5/10 10:15            length: 12     count: 1351583\n",
      "12/13/09 16:00          length: 14     count: 1339330\n",
      "8/22/2010 12:30         length: 15     count:  754861\n",
      "5/1/15 7:00             length: 11     count:  258637\n",
      "12/12/2011 18:30        length: 16     count:  112105\n",
      "10/22/10                length: 8      count:   13309\n",
      "9/23/10                 length: 7      count:    9488\n",
      "12/12/2011              length: 10     count:    8393\n",
      "1/27/2011               length: 9      count:    4049\n",
      "5/1/15                  length: 6      count:    1848\n",
      "5/19/2009 7:00:00AM     length: 19     count:    1639\n",
      "2/24/2009 11:30:00AM    length: 20     count:     581\n",
      "9/24/20096:00:00PM      length: 18     count:     325\n",
      "                        length: 1      count:       3\n",
      "3/6/20099:30:00AM       length: 17     count:       2\n",
      "nan                     length: 3      count:       2\n",
      "41948                   length: 5      count:       1\n"
     ]
    }
   ],
   "source": [
    "# function to return a sample datetime string for a given length\n",
    "def inspect_date(length):\n",
    "    return dates_dataframe[dates_dataframe.APPT_START_DATE.str.len() == length]\\\n",
    "                                                     .APPT_START_DATE.values[0]\n",
    "\n",
    "# string formatting to format print output\n",
    "print(\"{:<20} {:^12} {:^15}\".format(\"Sample\", \"Length\", \"Count\"))\n",
    "print(\"-\" * 53)\n",
    "\n",
    "for i, j in zip(lengths.index, lengths.values):\n",
    "    result = inspect_date(i)\n",
    "    print(\"{:<20} {:>10} {:<2} {:>10} {:>7}\".format(result, \"length:\", \n",
    "                                                    len(result), \"count:\", j))"
   ]
  },
  {
   "cell_type": "markdown",
   "metadata": {},
   "source": [
    "**The take-away here** is that the datetime column lacks a consistent format. Some entries contain `hour:minute:seconds` and some don't. Sometimes the year is represented with 4 digits, sometimes only 2.    \n",
    "\n",
    "When we specify a format using `\"format=\"` in the function call, `to_datetime` throws an exception when encountering an unexpected type of datetime format. \n",
    "\n",
    "As far as I can tell our best bet (because of the lack of a consistent format) was the technique we used above, in which we used `to_datetime` on the set of unique values, and transformed the Series with the `map` method."
   ]
  },
  {
   "cell_type": "markdown",
   "metadata": {},
   "source": [
    "## 2. Changing time zones     \n",
    "This is pretty straightforward, but worth looking at.    \n",
    "\n",
    "First, let's download and import some timestamp data that has hour:minute:second.    \n",
    "\n",
    "We'll use the `datadotworld.query` method to write a SQL query."
   ]
  },
  {
   "cell_type": "code",
   "execution_count": 14,
   "metadata": {
    "collapsed": true
   },
   "outputs": [],
   "source": [
    "time_df = ddw.query('nrippner/datetime-sample',\n",
    "                    'SELECT * FROM time_data LIMIT 1000').dataframe\n",
    "\n",
    "time_df['created_date'] = pd.to_datetime(time_df.created_date)"
   ]
  },
  {
   "cell_type": "markdown",
   "metadata": {},
   "source": [
    "* The `created_date` column (after feeding it to the `to_datetime` function) is a datetime64 object.  \n",
    "* The individual objects that the `created_date` column comprises are pandas Timestamps."
   ]
  },
  {
   "cell_type": "code",
   "execution_count": 15,
   "metadata": {},
   "outputs": [
    {
     "name": "stdout",
     "output_type": "stream",
     "text": [
      "<class 'pandas.core.frame.DataFrame'>\n",
      "RangeIndex: 1000 entries, 0 to 999\n",
      "Data columns (total 2 columns):\n",
      "id              1000 non-null int64\n",
      "created_date    1000 non-null datetime64[ns]\n",
      "dtypes: datetime64[ns](1), int64(1)\n",
      "memory usage: 15.7 KB\n"
     ]
    }
   ],
   "source": [
    "time_df.info()"
   ]
  },
  {
   "cell_type": "code",
   "execution_count": 15,
   "metadata": {},
   "outputs": [
    {
     "name": "stdout",
     "output_type": "stream",
     "text": [
      "2016-06-04 00:23:34\n",
      "<class 'pandas._libs.tslib.Timestamp'>\n"
     ]
    }
   ],
   "source": [
    "item = time_df.created_date[0]\n",
    "print(item)\n",
    "print(type(item))"
   ]
  },
  {
   "cell_type": "markdown",
   "metadata": {},
   "source": [
    "Let's imagine that we want to convert the data to Central time. By default, pandas Timestamp objects are _time zone agnostic_. Therefore, we have to ascertain the baseline timezone, because the data alone will not tell us. In this case, let's assume that I either contacted the database administrator or the database's documentation and learned that the time stamps were measured in UTC format (a common standard for databases).   \n",
    "     \n",
    "Knowing we're starting from UTC, here's how to go about changing the time zone in pandas. We'll use the `pytz` to get a list of time zones."
   ]
  },
  {
   "cell_type": "code",
   "execution_count": 16,
   "metadata": {
    "collapsed": true
   },
   "outputs": [],
   "source": [
    "all_tz = pytz.all_timezones\n",
    "#all_tz"
   ]
  },
  {
   "cell_type": "code",
   "execution_count": 17,
   "metadata": {
    "collapsed": true
   },
   "outputs": [],
   "source": [
    "time_df['central_tz'] = \\\n",
    "         time_df.created_date.apply(lambda x: x.tz_localize('UTC').tz_convert('US/Central'))"
   ]
  },
  {
   "cell_type": "code",
   "execution_count": 18,
   "metadata": {},
   "outputs": [
    {
     "name": "stdout",
     "output_type": "stream",
     "text": [
      "time zone: US/Central\n"
     ]
    },
    {
     "data": {
      "text/html": [
       "<div>\n",
       "<style>\n",
       "    .dataframe thead tr:only-child th {\n",
       "        text-align: right;\n",
       "    }\n",
       "\n",
       "    .dataframe thead th {\n",
       "        text-align: left;\n",
       "    }\n",
       "\n",
       "    .dataframe tbody tr th {\n",
       "        vertical-align: top;\n",
       "    }\n",
       "</style>\n",
       "<table border=\"1\" class=\"dataframe\">\n",
       "  <thead>\n",
       "    <tr style=\"text-align: right;\">\n",
       "      <th></th>\n",
       "      <th>id</th>\n",
       "      <th>created_date</th>\n",
       "      <th>central_tz</th>\n",
       "    </tr>\n",
       "  </thead>\n",
       "  <tbody>\n",
       "    <tr>\n",
       "      <th>0</th>\n",
       "      <td>555</td>\n",
       "      <td>2016-06-04 00:23:34</td>\n",
       "      <td>2016-06-03 19:23:34-05:00</td>\n",
       "    </tr>\n",
       "    <tr>\n",
       "      <th>1</th>\n",
       "      <td>556</td>\n",
       "      <td>2016-06-04 04:28:40</td>\n",
       "      <td>2016-06-03 23:28:40-05:00</td>\n",
       "    </tr>\n",
       "    <tr>\n",
       "      <th>2</th>\n",
       "      <td>565</td>\n",
       "      <td>2016-06-04 20:39:05</td>\n",
       "      <td>2016-06-04 15:39:05-05:00</td>\n",
       "    </tr>\n",
       "    <tr>\n",
       "      <th>3</th>\n",
       "      <td>655</td>\n",
       "      <td>2016-06-05 22:43:03</td>\n",
       "      <td>2016-06-05 17:43:03-05:00</td>\n",
       "    </tr>\n",
       "    <tr>\n",
       "      <th>4</th>\n",
       "      <td>1555</td>\n",
       "      <td>2016-06-17 01:07:05</td>\n",
       "      <td>2016-06-16 20:07:05-05:00</td>\n",
       "    </tr>\n",
       "  </tbody>\n",
       "</table>\n",
       "</div>"
      ],
      "text/plain": [
       "     id        created_date                central_tz\n",
       "0   555 2016-06-04 00:23:34 2016-06-03 19:23:34-05:00\n",
       "1   556 2016-06-04 04:28:40 2016-06-03 23:28:40-05:00\n",
       "2   565 2016-06-04 20:39:05 2016-06-04 15:39:05-05:00\n",
       "3   655 2016-06-05 22:43:03 2016-06-05 17:43:03-05:00\n",
       "4  1555 2016-06-17 01:07:05 2016-06-16 20:07:05-05:00"
      ]
     },
     "execution_count": 18,
     "metadata": {},
     "output_type": "execute_result"
    }
   ],
   "source": [
    "print(\"time zone:\", time_df.central_tz[0].tz)\n",
    "time_df.head()"
   ]
  },
  {
   "cell_type": "markdown",
   "metadata": {},
   "source": [
    "## 3. \"Standardizing\" text (string) columns      \n",
    "In this section, we'll see how to correct discrepancies between two columns.     \n",
    "\n",
    "> The typical use case is when you want to join two separate datasets, each with a common column to join on (for example, city name). More often than not we find spelling, syntax, or formatting differences between columns, which need to be brought into symmetry prior to executing a join.    \n",
    "\n",
    "In this example, our goal is to join two datasets on a \"Country\" column. In this case, we're going to join a dataset on refugees by country with one for population by country, with the goal of creating a \"Refugees Per Capita\" feature."
   ]
  },
  {
   "cell_type": "code",
   "execution_count": 16,
   "metadata": {
    "collapsed": true
   },
   "outputs": [],
   "source": [
    "refugee_df = ddw.query('nrippner/refugee-host-nations',\n",
    "   ''' SELECT `unhcr_2015.csv/unhcr_2015`.`Refugees (incl. refugee-like situations)` as Refugees,\n",
    "              `unhcr_2015.csv/unhcr_2015`.`Country / territory of asylum/residence` as Country\n",
    "       FROM `unhcr_2015.csv/unhcr_2015` ''').dataframe\n",
    "\n",
    "# filter out instances where Refugees = '*'\n",
    "refugee_df = refugee_df[refugee_df.Refugees != '*']\n",
    "\n",
    "# use pandas.to_numeric function to convert column to np.float64 dtype\n",
    "refugee_df['Refugees'] = pd.to_numeric(refugee_df.Refugees)\n",
    "\n",
    "# use pandas.DataFrame.groupby to get sum of refugees per country\n",
    "refugee_df = refugee_df.groupby('Country', as_index=False).sum()"
   ]
  },
  {
   "cell_type": "code",
   "execution_count": 17,
   "metadata": {
    "collapsed": true
   },
   "outputs": [],
   "source": [
    "population_df = ddw.query('nrippner/refugee-host-nations',\n",
    "    '''SELECT `worldbank_indicators.csv/worldbank_indicators`.`2015 [YR2015]` as Population_2015,\n",
    "               `worldbank_indicators.csv/worldbank_indicators`.`Country Name` as Country\n",
    "       FROM `worldbank_indicators.csv/worldbank_indicators`\n",
    "       WHERE `worldbank_indicators.csv/worldbank_indicators`.`Series Name`\n",
    "       LIKE \"Population, total\"''').dataframe\n"
   ]
  },
  {
   "cell_type": "code",
   "execution_count": 19,
   "metadata": {},
   "outputs": [
    {
     "name": "stdout",
     "output_type": "stream",
     "text": [
      "The refugee dataframe has 170 unique Countries\n",
      "The population dataframe has 244 unique Countries\n"
     ]
    }
   ],
   "source": [
    "# show # of unique countries in each DataFrame\n",
    "print(\"The refugee dataframe has %d unique Countries\" % len(refugee_df.Country.unique()))\n",
    "print(\"The population dataframe has %d unique Countries\" % len(population_df.Country.unique()))"
   ]
  },
  {
   "cell_type": "code",
   "execution_count": 21,
   "metadata": {},
   "outputs": [
    {
     "name": "stdout",
     "output_type": "stream",
     "text": [
      "143 out of 170 unique countries in refugee_df are in population_df\n",
      "143 out of 244 unique countries in population_df are in refugee_df\n"
     ]
    }
   ],
   "source": [
    "# In this step we use two Pandas.Series methods (Series.unique() and Series.isin()) to show the intersection between the two\n",
    "# columns over the 'Country' column. \n",
    "\n",
    "A = sum(pd.Series(refugee_df.Country.unique()).isin(population_df.Country))\n",
    "B = sum(pd.Series(population_df.Country.unique()).isin(refugee_df.Country))\n",
    "print(\"%d out of %d unique countries in refugee_df are in population_df\" \n",
    "                                   % (A, len(refugee_df.Country.unique())))\n",
    "print(\"%d out of %d unique countries in population_df are in refugee_df\" \n",
    "                                 % (B, len(population_df.Country.unique())))"
   ]
  },
  {
   "cell_type": "markdown",
   "metadata": {},
   "source": [
    "The DataFrames share 143 unique countries. An inner merge at this point would result in a DataFrame 143 rows in length. We can probably do better than that.    \n",
    "Take a look at the 27 countries in refugee_df that don't match"
   ]
  },
  {
   "cell_type": "code",
   "execution_count": 22,
   "metadata": {},
   "outputs": [
    {
     "data": {
      "text/plain": [
       "10                                       Bahamas\n",
       "17              Bolivia (Plurinational State of)\n",
       "30                          Central African Rep.\n",
       "34                          China, Hong Kong SAR\n",
       "36                                         Congo\n",
       "41                                    Czech Rep.\n",
       "42                                 Côte d'Ivoire\n",
       "43                   Dem. People's Rep. of Korea\n",
       "44                        Dem. Rep. of the Congo\n",
       "47                                Dominican Rep.\n",
       "49                                         Egypt\n",
       "58                                        Gambia\n",
       "73                        Iran (Islamic Rep. of)\n",
       "84                                    Kyrgyzstan\n",
       "100             Micronesia (Federated States of)\n",
       "108                                        Nauru\n",
       "126                                Rep. of Korea\n",
       "127                              Rep. of Moldova\n",
       "133        Serbia and Kosovo (S/RES/1244 (1999))\n",
       "136                                     Slovakia\n",
       "147                             Syrian Arab Rep.\n",
       "150    The former Yugoslav Republic of Macedonia\n",
       "161                      United Rep. of Tanzania\n",
       "162                     United States of America\n",
       "165           Venezuela (Bolivarian Republic of)\n",
       "166                                     Viet Nam\n",
       "167                                        Yemen\n",
       "dtype: object"
      ]
     },
     "execution_count": 22,
     "metadata": {},
     "output_type": "execute_result"
    }
   ],
   "source": [
    "# use the .unique() method to give a numpy array of the unique countries.\n",
    "# feed it to pd.Series() to convert it to a Pandas Series object so we can use\n",
    "# the .isin() method\n",
    "countries_unique = pd.Series(refugee_df.Country.unique())\n",
    "countries_unique[~countries_unique.isin(population_df.Country)]\n",
    "# (the ~ symbol before \"countries\" means \"not\")\n",
    "# the items from refugee_df.Country that are not in population_df.Country"
   ]
  },
  {
   "cell_type": "markdown",
   "metadata": {},
   "source": [
    "Now let's reconcile the country names between the two DataFrames wherever possible.  "
   ]
  },
  {
   "cell_type": "code",
   "execution_count": 23,
   "metadata": {
    "collapsed": true
   },
   "outputs": [],
   "source": [
    "# use list comprehension, the Python \"enumerate\" function, \n",
    "# and the pandas Series.isin() method to make list of non-matching countries\n",
    "no_match = [[i, refugee_df.Country.unique()[i]] for i, j in \n",
    "     enumerate(pd.Series(refugee_df.Country.unique()).isin(population_df.Country)) if not j]"
   ]
  },
  {
   "cell_type": "code",
   "execution_count": 24,
   "metadata": {},
   "outputs": [
    {
     "data": {
      "text/plain": [
       "[[10, 'Bahamas'],\n",
       " [17, 'Bolivia (Plurinational State of)'],\n",
       " [30, 'Central African Rep.'],\n",
       " [34, 'China, Hong Kong SAR'],\n",
       " [36, 'Congo'],\n",
       " [41, 'Czech Rep.'],\n",
       " [42, \"Côte d'Ivoire\"],\n",
       " [43, \"Dem. People's Rep. of Korea\"],\n",
       " [44, 'Dem. Rep. of the Congo'],\n",
       " [47, 'Dominican Rep.'],\n",
       " [49, 'Egypt'],\n",
       " [58, 'Gambia'],\n",
       " [73, 'Iran (Islamic Rep. of)'],\n",
       " [84, 'Kyrgyzstan'],\n",
       " [100, 'Micronesia (Federated States of)'],\n",
       " [108, 'Nauru'],\n",
       " [126, 'Rep. of Korea'],\n",
       " [127, 'Rep. of Moldova'],\n",
       " [133, 'Serbia and Kosovo (S/RES/1244 (1999))'],\n",
       " [136, 'Slovakia'],\n",
       " [147, 'Syrian Arab Rep.'],\n",
       " [150, 'The former Yugoslav Republic of Macedonia'],\n",
       " [161, 'United Rep. of Tanzania'],\n",
       " [162, 'United States of America'],\n",
       " [165, 'Venezuela (Bolivarian Republic of)'],\n",
       " [166, 'Viet Nam'],\n",
       " [167, 'Yemen']]"
      ]
     },
     "execution_count": 24,
     "metadata": {},
     "output_type": "execute_result"
    }
   ],
   "source": [
    "# a list of lists that pd.DataFrame will accept\n",
    "no_match"
   ]
  },
  {
   "cell_type": "code",
   "execution_count": 25,
   "metadata": {
    "collapsed": true
   },
   "outputs": [],
   "source": [
    "# create dataframe\n",
    "no_match = pd.DataFrame(no_match, index=range(len(no_match)), columns=['idx', 'Country'])"
   ]
  },
  {
   "cell_type": "code",
   "execution_count": 26,
   "metadata": {
    "collapsed": true
   },
   "outputs": [],
   "source": [
    "# fuzzy matching, list comprehension, pd.Series.isin and enumerate to help find matches\n",
    "# add results as a new column in our dataframe for easy viewing\n",
    "no_match['Matches'] = [process.extractBests(j, population_df.Country.unique(), limit=3,\n",
    "                        score_cutoff=70) for _, j in enumerate(no_match.Country.values)]"
   ]
  },
  {
   "cell_type": "code",
   "execution_count": 27,
   "metadata": {},
   "outputs": [
    {
     "data": {
      "text/html": [
       "<div>\n",
       "<style>\n",
       "    .dataframe thead tr:only-child th {\n",
       "        text-align: right;\n",
       "    }\n",
       "\n",
       "    .dataframe thead th {\n",
       "        text-align: left;\n",
       "    }\n",
       "\n",
       "    .dataframe tbody tr th {\n",
       "        vertical-align: top;\n",
       "    }\n",
       "</style>\n",
       "<table border=\"1\" class=\"dataframe\">\n",
       "  <thead>\n",
       "    <tr style=\"text-align: right;\">\n",
       "      <th></th>\n",
       "      <th>idx</th>\n",
       "      <th>Country</th>\n",
       "      <th>Matches</th>\n",
       "    </tr>\n",
       "  </thead>\n",
       "  <tbody>\n",
       "    <tr>\n",
       "      <th>0</th>\n",
       "      <td>10</td>\n",
       "      <td>Bahamas</td>\n",
       "      <td>[(Bahamas, The, 90)]</td>\n",
       "    </tr>\n",
       "    <tr>\n",
       "      <th>1</th>\n",
       "      <td>17</td>\n",
       "      <td>Bolivia (Plurinational State of)</td>\n",
       "      <td>[(Bolivia, 90), (Isle of Man, 86), (Tonga, 72)]</td>\n",
       "    </tr>\n",
       "    <tr>\n",
       "      <th>2</th>\n",
       "      <td>30</td>\n",
       "      <td>Central African Rep.</td>\n",
       "      <td>[(Central African Republic, 88), (Congo, Rep., 86), (Korea, Rep., 86)]</td>\n",
       "    </tr>\n",
       "    <tr>\n",
       "      <th>3</th>\n",
       "      <td>34</td>\n",
       "      <td>China, Hong Kong SAR</td>\n",
       "      <td>[(Hong Kong SAR, China, 95), (China, 90), (Macao SAR, China, 71)]</td>\n",
       "    </tr>\n",
       "    <tr>\n",
       "      <th>4</th>\n",
       "      <td>36</td>\n",
       "      <td>Congo</td>\n",
       "      <td>[(Congo, Dem. Rep., 90), (Congo, Rep., 90), (Mongolia, 72)]</td>\n",
       "    </tr>\n",
       "    <tr>\n",
       "      <th>5</th>\n",
       "      <td>41</td>\n",
       "      <td>Czech Rep.</td>\n",
       "      <td>[(Czech Republic, 90), (Congo, Dem. Rep., 86), (Egypt, Arab Rep., 86)]</td>\n",
       "    </tr>\n",
       "    <tr>\n",
       "      <th>6</th>\n",
       "      <td>42</td>\n",
       "      <td>Côte d'Ivoire</td>\n",
       "      <td>[(Cote d'Ivoire, 96)]</td>\n",
       "    </tr>\n",
       "    <tr>\n",
       "      <th>7</th>\n",
       "      <td>43</td>\n",
       "      <td>Dem. People's Rep. of Korea</td>\n",
       "      <td>[(Korea, Dem. People’s Rep., 95), (Congo, Dem. Rep., 86), (Congo, Rep., 86)]</td>\n",
       "    </tr>\n",
       "    <tr>\n",
       "      <th>8</th>\n",
       "      <td>44</td>\n",
       "      <td>Dem. Rep. of the Congo</td>\n",
       "      <td>[(Congo, Dem. Rep., 95), (Bahamas, The, 86), (Congo, Rep., 86)]</td>\n",
       "    </tr>\n",
       "    <tr>\n",
       "      <th>9</th>\n",
       "      <td>47</td>\n",
       "      <td>Dominican Rep.</td>\n",
       "      <td>[(Dominica, 90), (Korea, Dem. People’s Rep., 86), (Dominican Republic, 84)]</td>\n",
       "    </tr>\n",
       "    <tr>\n",
       "      <th>10</th>\n",
       "      <td>49</td>\n",
       "      <td>Egypt</td>\n",
       "      <td>[(Egypt, Arab Rep., 90)]</td>\n",
       "    </tr>\n",
       "    <tr>\n",
       "      <th>11</th>\n",
       "      <td>58</td>\n",
       "      <td>Gambia</td>\n",
       "      <td>[(Gambia, The, 90), (Zambia, 83), (Namibia, 77)]</td>\n",
       "    </tr>\n",
       "    <tr>\n",
       "      <th>12</th>\n",
       "      <td>73</td>\n",
       "      <td>Iran (Islamic Rep. of)</td>\n",
       "      <td>[(Iran, Islamic Rep., 95), (Congo, Rep., 86), (Isle of Man, 86)]</td>\n",
       "    </tr>\n",
       "    <tr>\n",
       "      <th>13</th>\n",
       "      <td>84</td>\n",
       "      <td>Kyrgyzstan</td>\n",
       "      <td>[]</td>\n",
       "    </tr>\n",
       "    <tr>\n",
       "      <th>14</th>\n",
       "      <td>100</td>\n",
       "      <td>Micronesia (Federated States of)</td>\n",
       "      <td>[(Isle of Man, 86), (Micronesia, Fed. Sts., 86), (United States, 86)]</td>\n",
       "    </tr>\n",
       "    <tr>\n",
       "      <th>15</th>\n",
       "      <td>108</td>\n",
       "      <td>Nauru</td>\n",
       "      <td>[]</td>\n",
       "    </tr>\n",
       "    <tr>\n",
       "      <th>16</th>\n",
       "      <td>126</td>\n",
       "      <td>Rep. of Korea</td>\n",
       "      <td>[(Korea, Rep., 95), (Korea, Dem. People’s Rep., 86)]</td>\n",
       "    </tr>\n",
       "    <tr>\n",
       "      <th>17</th>\n",
       "      <td>127</td>\n",
       "      <td>Rep. of Moldova</td>\n",
       "      <td>[(Moldova, 90), (Congo, Rep., 86), (Korea, Dem. People’s Rep., 86)]</td>\n",
       "    </tr>\n",
       "    <tr>\n",
       "      <th>18</th>\n",
       "      <td>133</td>\n",
       "      <td>Serbia and Kosovo (S/RES/1244 (1999))</td>\n",
       "      <td>[(Kosovo, 90), (Serbia, 90), (Antigua and Barbuda, 86)]</td>\n",
       "    </tr>\n",
       "    <tr>\n",
       "      <th>19</th>\n",
       "      <td>136</td>\n",
       "      <td>Slovakia</td>\n",
       "      <td>[(Slovenia, 75), (Slovak Republic, 74)]</td>\n",
       "    </tr>\n",
       "    <tr>\n",
       "      <th>20</th>\n",
       "      <td>147</td>\n",
       "      <td>Syrian Arab Rep.</td>\n",
       "      <td>[(Congo, Rep., 86), (Korea, Dem. People’s Rep., 86), (Korea, Rep., 86)]</td>\n",
       "    </tr>\n",
       "    <tr>\n",
       "      <th>21</th>\n",
       "      <td>150</td>\n",
       "      <td>The former Yugoslav Republic of Macedonia</td>\n",
       "      <td>[(Bahamas, The, 86), (Central African Republic, 86), (Czech Republic, 86)]</td>\n",
       "    </tr>\n",
       "    <tr>\n",
       "      <th>22</th>\n",
       "      <td>161</td>\n",
       "      <td>United Rep. of Tanzania</td>\n",
       "      <td>[(Tanzania, 90), (Congo, Dem. Rep., 86), (Congo, Rep., 86)]</td>\n",
       "    </tr>\n",
       "    <tr>\n",
       "      <th>23</th>\n",
       "      <td>162</td>\n",
       "      <td>United States of America</td>\n",
       "      <td>[(United States, 90), (Isle of Man, 86), (United Kingdom, 86)]</td>\n",
       "    </tr>\n",
       "    <tr>\n",
       "      <th>24</th>\n",
       "      <td>165</td>\n",
       "      <td>Venezuela (Bolivarian Republic of)</td>\n",
       "      <td>[(Czech Republic, 86), (Dominican Republic, 86), (Isle of Man, 86)]</td>\n",
       "    </tr>\n",
       "    <tr>\n",
       "      <th>25</th>\n",
       "      <td>166</td>\n",
       "      <td>Viet Nam</td>\n",
       "      <td>[(Vietnam, 93)]</td>\n",
       "    </tr>\n",
       "    <tr>\n",
       "      <th>26</th>\n",
       "      <td>167</td>\n",
       "      <td>Yemen</td>\n",
       "      <td>[(Yemen, Rep., 90)]</td>\n",
       "    </tr>\n",
       "  </tbody>\n",
       "</table>\n",
       "</div>"
      ],
      "text/plain": [
       "    idx                                    Country  \\\n",
       "0    10                                    Bahamas   \n",
       "1    17           Bolivia (Plurinational State of)   \n",
       "2    30                       Central African Rep.   \n",
       "3    34                       China, Hong Kong SAR   \n",
       "4    36                                      Congo   \n",
       "5    41                                 Czech Rep.   \n",
       "6    42                              Côte d'Ivoire   \n",
       "7    43                Dem. People's Rep. of Korea   \n",
       "8    44                     Dem. Rep. of the Congo   \n",
       "9    47                             Dominican Rep.   \n",
       "10   49                                      Egypt   \n",
       "11   58                                     Gambia   \n",
       "12   73                     Iran (Islamic Rep. of)   \n",
       "13   84                                 Kyrgyzstan   \n",
       "14  100           Micronesia (Federated States of)   \n",
       "15  108                                      Nauru   \n",
       "16  126                              Rep. of Korea   \n",
       "17  127                            Rep. of Moldova   \n",
       "18  133      Serbia and Kosovo (S/RES/1244 (1999))   \n",
       "19  136                                   Slovakia   \n",
       "20  147                           Syrian Arab Rep.   \n",
       "21  150  The former Yugoslav Republic of Macedonia   \n",
       "22  161                    United Rep. of Tanzania   \n",
       "23  162                   United States of America   \n",
       "24  165         Venezuela (Bolivarian Republic of)   \n",
       "25  166                                   Viet Nam   \n",
       "26  167                                      Yemen   \n",
       "\n",
       "                                                                         Matches  \n",
       "0                                                           [(Bahamas, The, 90)]  \n",
       "1                                [(Bolivia, 90), (Isle of Man, 86), (Tonga, 72)]  \n",
       "2         [(Central African Republic, 88), (Congo, Rep., 86), (Korea, Rep., 86)]  \n",
       "3              [(Hong Kong SAR, China, 95), (China, 90), (Macao SAR, China, 71)]  \n",
       "4                    [(Congo, Dem. Rep., 90), (Congo, Rep., 90), (Mongolia, 72)]  \n",
       "5         [(Czech Republic, 90), (Congo, Dem. Rep., 86), (Egypt, Arab Rep., 86)]  \n",
       "6                                                          [(Cote d'Ivoire, 96)]  \n",
       "7   [(Korea, Dem. People’s Rep., 95), (Congo, Dem. Rep., 86), (Congo, Rep., 86)]  \n",
       "8                [(Congo, Dem. Rep., 95), (Bahamas, The, 86), (Congo, Rep., 86)]  \n",
       "9    [(Dominica, 90), (Korea, Dem. People’s Rep., 86), (Dominican Republic, 84)]  \n",
       "10                                                      [(Egypt, Arab Rep., 90)]  \n",
       "11                              [(Gambia, The, 90), (Zambia, 83), (Namibia, 77)]  \n",
       "12              [(Iran, Islamic Rep., 95), (Congo, Rep., 86), (Isle of Man, 86)]  \n",
       "13                                                                            []  \n",
       "14         [(Isle of Man, 86), (Micronesia, Fed. Sts., 86), (United States, 86)]  \n",
       "15                                                                            []  \n",
       "16                          [(Korea, Rep., 95), (Korea, Dem. People’s Rep., 86)]  \n",
       "17           [(Moldova, 90), (Congo, Rep., 86), (Korea, Dem. People’s Rep., 86)]  \n",
       "18                       [(Kosovo, 90), (Serbia, 90), (Antigua and Barbuda, 86)]  \n",
       "19                                       [(Slovenia, 75), (Slovak Republic, 74)]  \n",
       "20       [(Congo, Rep., 86), (Korea, Dem. People’s Rep., 86), (Korea, Rep., 86)]  \n",
       "21    [(Bahamas, The, 86), (Central African Republic, 86), (Czech Republic, 86)]  \n",
       "22                   [(Tanzania, 90), (Congo, Dem. Rep., 86), (Congo, Rep., 86)]  \n",
       "23                [(United States, 90), (Isle of Man, 86), (United Kingdom, 86)]  \n",
       "24           [(Czech Republic, 86), (Dominican Republic, 86), (Isle of Man, 86)]  \n",
       "25                                                               [(Vietnam, 93)]  \n",
       "26                                                           [(Yemen, Rep., 90)]  "
      ]
     },
     "execution_count": 27,
     "metadata": {},
     "output_type": "execute_result"
    }
   ],
   "source": [
    "pd.options.display.max_colwidth = 80\n",
    "no_match"
   ]
  },
  {
   "cell_type": "markdown",
   "metadata": {},
   "source": [
    "Most of these worked well, but for some reason Venezuela (line 24) and Kyrgyzstan (line 13) didn't properly yield a match (although they probably should have).    \n",
    "We'll use pd.Series.str.contains() to manually take a look."
   ]
  },
  {
   "cell_type": "code",
   "execution_count": 28,
   "metadata": {},
   "outputs": [
    {
     "data": {
      "text/html": [
       "<div>\n",
       "<style>\n",
       "    .dataframe thead tr:only-child th {\n",
       "        text-align: right;\n",
       "    }\n",
       "\n",
       "    .dataframe thead th {\n",
       "        text-align: left;\n",
       "    }\n",
       "\n",
       "    .dataframe tbody tr th {\n",
       "        vertical-align: top;\n",
       "    }\n",
       "</style>\n",
       "<table border=\"1\" class=\"dataframe\">\n",
       "  <thead>\n",
       "    <tr style=\"text-align: right;\">\n",
       "      <th></th>\n",
       "      <th>Population_2015</th>\n",
       "      <th>Country</th>\n",
       "    </tr>\n",
       "  </thead>\n",
       "  <tbody>\n",
       "    <tr>\n",
       "      <th>207</th>\n",
       "      <td>31108083.0</td>\n",
       "      <td>Venezuela, RB</td>\n",
       "    </tr>\n",
       "  </tbody>\n",
       "</table>\n",
       "</div>"
      ],
      "text/plain": [
       "     Population_2015        Country\n",
       "207       31108083.0  Venezuela, RB"
      ]
     },
     "execution_count": 28,
     "metadata": {},
     "output_type": "execute_result"
    }
   ],
   "source": [
    "population_df[population_df.Country.str.contains('Venez')]"
   ]
  },
  {
   "cell_type": "markdown",
   "metadata": {},
   "source": [
    "* Now, we'll create a nested dictionary to input into the pd.DataFrame.replace function on the refugee_df dataframe.    \n",
    "* The dictionary targets one column in the refugee_df dataframe: 'Country'.    \n",
    "* The pd.DataFrame.replace function will look within the refugee_df.Country column, find each key in the lower nested dictionary, and replace them with their corresponding values.   \n",
    "\n",
    "This process is (when possible), transforming the country names in refugee_df to match correctly with the same country's name in population_df."
   ]
  },
  {
   "cell_type": "code",
   "execution_count": 29,
   "metadata": {
    "collapsed": true
   },
   "outputs": [],
   "source": [
    "repl = { 'Country' : {'Czech Rep.':'Czech Republic',\n",
    "                      'Dominican Rep.':'Dominican Republic',\n",
    "                      'Egypt':'Egypt, Arab Rep.',\n",
    "                      'Micronesia (Federated States of)':'Micronesia, Fed. Sts.',\n",
    "                      'Gambia':'Gambia, The',\n",
    "                      'China, Hong Kong SAR':'Hong Kong SAR, China',\n",
    "                      'Iran (Islamic Rep. of)':'Iran, Islamic Rep.',\n",
    "                      'Kyrgyzstan':'Kyrgyz Republic',\n",
    "                      'Rep. of Korea':'Korea, Rep.',\n",
    "                      'Serbia and Kosovo (S/RES/1244 (1999))':'Serbia',\n",
    "                      'Slovakia':'Slovak Republic',\n",
    "                      'Syrian Arab Rep.':'Syrian Arab Republic',\n",
    "                      'United Rep. of Tanzania':'Tanzania',\n",
    "                      'United States of America':'United States',\n",
    "                      'Venezuela (Bolivarian Republic of)':'Venezuela, RB',\n",
    "                      'Viet Nam':'Vietnam',\n",
    "                      'Yemen':'Yemen, Rep.',\n",
    "                      'Bahamas':'Bahamas, The',\n",
    "                      'Bolivia (Plurinational State of)':'Bolivia',\n",
    "                      'Central African Rep.':'Central African Republic',\n",
    "                      'Côte d\\'Ivoire':'Cote d\\'Ivoire',\n",
    "                      'Dem. Rep. of the Congo':'Congo, Dem. Rep.',\n",
    "                      'Congo':'Congo, Rep.',\n",
    "                      'Rep. of Moldova':'Moldova',\n",
    "                      'The former Yugoslav Republic of Macedonia':'Macedonia, FYR',\n",
    "                      'Dem. People\\'s Rep. of Korea':'Korea, Dem. People’s Rep.'\n",
    "                     }\n",
    "       }\n",
    "\n",
    "refugee_df.replace(repl, inplace=True)"
   ]
  },
  {
   "cell_type": "code",
   "execution_count": 30,
   "metadata": {},
   "outputs": [
    {
     "name": "stdout",
     "output_type": "stream",
     "text": [
      "count of number of non-matching country names _________1\n",
      "which country were we unable to match? ________________Nauru\n"
     ]
    }
   ],
   "source": [
    "ref_unique = pd.Series(refugee_df.Country.unique())\n",
    "a = 'count of number of non-matching country names'\n",
    "print(\"{} {:_>10}\".format(a, len(ref_unique[~ref_unique.isin(population_df.Country)])))\n",
    "b = 'which country were we unable to match?'\n",
    "print(\"{} {:_>21}\".format(b, ref_unique[~ref_unique.isin(population_df.Country)].values[0]))\n"
   ]
  },
  {
   "cell_type": "markdown",
   "metadata": {},
   "source": [
    "After reconciling the spelling differences, the only country that can't be matched\n",
    "is Nauru. \n",
    "Now we have a matching column in each dataframe to join on."
   ]
  },
  {
   "cell_type": "code",
   "execution_count": 32,
   "metadata": {},
   "outputs": [
    {
     "data": {
      "text/html": [
       "<div>\n",
       "<style>\n",
       "    .dataframe thead tr:only-child th {\n",
       "        text-align: right;\n",
       "    }\n",
       "\n",
       "    .dataframe thead th {\n",
       "        text-align: left;\n",
       "    }\n",
       "\n",
       "    .dataframe tbody tr th {\n",
       "        vertical-align: top;\n",
       "    }\n",
       "</style>\n",
       "<table border=\"1\" class=\"dataframe\">\n",
       "  <thead>\n",
       "    <tr style=\"text-align: right;\">\n",
       "      <th></th>\n",
       "      <th>Country</th>\n",
       "      <th>Refugees</th>\n",
       "      <th>Population_2015</th>\n",
       "      <th>Refugees_Per_Cap</th>\n",
       "    </tr>\n",
       "  </thead>\n",
       "  <tbody>\n",
       "    <tr>\n",
       "      <th>0</th>\n",
       "      <td>Afghanistan</td>\n",
       "      <td>257553</td>\n",
       "      <td>32526562.0</td>\n",
       "      <td>0.007918</td>\n",
       "    </tr>\n",
       "    <tr>\n",
       "      <th>1</th>\n",
       "      <td>Albania</td>\n",
       "      <td>79</td>\n",
       "      <td>2889167.0</td>\n",
       "      <td>0.000027</td>\n",
       "    </tr>\n",
       "    <tr>\n",
       "      <th>2</th>\n",
       "      <td>Algeria</td>\n",
       "      <td>94161</td>\n",
       "      <td>39666519.0</td>\n",
       "      <td>0.002374</td>\n",
       "    </tr>\n",
       "    <tr>\n",
       "      <th>3</th>\n",
       "      <td>Angola</td>\n",
       "      <td>15537</td>\n",
       "      <td>25021974.0</td>\n",
       "      <td>0.000621</td>\n",
       "    </tr>\n",
       "    <tr>\n",
       "      <th>4</th>\n",
       "      <td>Antigua and Barbuda</td>\n",
       "      <td>15</td>\n",
       "      <td>91818.0</td>\n",
       "      <td>0.000163</td>\n",
       "    </tr>\n",
       "  </tbody>\n",
       "</table>\n",
       "</div>"
      ],
      "text/plain": [
       "               Country  Refugees  Population_2015  Refugees_Per_Cap\n",
       "0          Afghanistan    257553       32526562.0          0.007918\n",
       "1              Albania        79        2889167.0          0.000027\n",
       "2              Algeria     94161       39666519.0          0.002374\n",
       "3               Angola     15537       25021974.0          0.000621\n",
       "4  Antigua and Barbuda        15          91818.0          0.000163"
      ]
     },
     "execution_count": 32,
     "metadata": {},
     "output_type": "execute_result"
    }
   ],
   "source": [
    "# merge dataframes\n",
    "refugee_df = refugee_df.merge(population_df, on='Country', how='inner')\n",
    "\n",
    "# create new feature\n",
    "refugee_df['Refugees_Per_Cap'] = refugee_df.Refugees / refugee_df.Population_2015\n",
    "\n",
    "refugee_df.head()"
   ]
  },
  {
   "cell_type": "markdown",
   "metadata": {},
   "source": [
    "## 4. Multiprocessing      \n",
    "Hat tip to [this blog](http://www.racketracer.com/2016/07/06/pandas-in-parallel/), where I discovered this technique.      \n",
    "Sometimes despite our best efforts to write good Python/Pandas code, we have complex computations that we'd like to speed up. For processor-intensive jobs, multiprocessing is a solution.    "
   ]
  },
  {
   "cell_type": "code",
   "execution_count": 42,
   "metadata": {},
   "outputs": [
    {
     "name": "stdout",
     "output_type": "stream",
     "text": [
      "single job: 104.28\n",
      "multiprocessor: 29.36\n"
     ]
    }
   ],
   "source": [
    "#import multiprocessor as mp\n",
    "\n",
    "# first, define the function that you want to distribute across multiple CPU cores\n",
    "# Note, this is a poorly written function, so we can play with multiprocessing\n",
    "def func(s_split):\n",
    "    \n",
    "    def apply_func(x):\n",
    "        count = 0\n",
    "        for letter in list(x):\n",
    "            for country in population_df.Country.values:\n",
    "                if letter in list(country):\n",
    "                    count += 1\n",
    "        return count\n",
    "    \n",
    "    for n in range(500):\n",
    "        out = s_split.apply(apply_func)\n",
    "    return out\n",
    "\n",
    "# multiprocessing\n",
    "num_partitions = 10\n",
    "num_cores = 6\n",
    "\n",
    "def parallelize_series(s, func):\n",
    "    s_split = np.array_split(s, num_partitions)\n",
    "    pool = mp.Pool(num_cores)\n",
    "    output = pd.concat(pool.map(func, s_split))\n",
    "    pool.close()\n",
    "    pool.join()\n",
    "    return output\n",
    "\n",
    "start = time.time()\n",
    "func(refugee_df.Country)\n",
    "end = time.time()\n",
    "print(\"single job: %.2f\" % (end - start))\n",
    "\n",
    "start = time.time()\n",
    "ref_unique['letter_counts'] = parallelize_series(refugee_df.Country, func)\n",
    "end = time.time() \n",
    "print(\"multiprocessor: %.2f\" % (end - start))"
   ]
  },
  {
   "cell_type": "markdown",
   "metadata": {},
   "source": [
    "We see the improvement in processing time.   \n",
    "The screenshot shows the jobs running concurrently on different cores of my quad-core laptop.\n",
    "\n",
    "![wrang_tut_3.png](https://data.world/api/nrippner/dataset/images/file/raw/wrang_tut_3.png)"
   ]
  },
  {
   "cell_type": "markdown",
   "metadata": {},
   "source": [
    "## 5. Reshaping dataframes with melt & pivot    \n",
    "\n",
    "**transform from \"wide\" to \"long\" format using melt**    \n",
    "For this exercise, we'll use the [Worldbank WDI Indicators data](https://data.world/worldbank/world-development-indicators) "
   ]
  },
  {
   "cell_type": "code",
   "execution_count": 34,
   "metadata": {
    "collapsed": true
   },
   "outputs": [],
   "source": [
    "# population estimates by nation, by year\n",
    "pop_dataframe = ddw.query('worldbank/world-development-indicators',\n",
    "            'SELECT * FROM `WDI_csv.zip/WDI_csv/WDI_Data.csv/WDI_Data`'\\\n",
    "            'WHERE `WDI_csv.zip/WDI_csv/WDI_Data.csv/WDI_Data`.`Indicator Code`'\\\n",
    "                                                    '     = \"GC.TAX.TOTL.GD.ZS\"').dataframe\n",
    "# note, we're very near to releasing a product update that will greatly simplify the \n",
    "# syntax and structure of the way data is referenced in queries."
   ]
  },
  {
   "cell_type": "code",
   "execution_count": 35,
   "metadata": {},
   "outputs": [
    {
     "name": "stdout",
     "output_type": "stream",
     "text": [
      "(264, 61)\n"
     ]
    },
    {
     "data": {
      "text/html": [
       "<div>\n",
       "<style>\n",
       "    .dataframe thead tr:only-child th {\n",
       "        text-align: right;\n",
       "    }\n",
       "\n",
       "    .dataframe thead th {\n",
       "        text-align: left;\n",
       "    }\n",
       "\n",
       "    .dataframe tbody tr th {\n",
       "        vertical-align: top;\n",
       "    }\n",
       "</style>\n",
       "<table border=\"1\" class=\"dataframe\">\n",
       "  <thead>\n",
       "    <tr style=\"text-align: right;\">\n",
       "      <th></th>\n",
       "      <th>Country Name</th>\n",
       "      <th>Country Code</th>\n",
       "      <th>Indicator Name</th>\n",
       "      <th>Indicator Code</th>\n",
       "      <th>1960</th>\n",
       "      <th>1961</th>\n",
       "      <th>1962</th>\n",
       "      <th>1963</th>\n",
       "      <th>1964</th>\n",
       "      <th>1965</th>\n",
       "      <th>...</th>\n",
       "      <th>2007</th>\n",
       "      <th>2008</th>\n",
       "      <th>2009</th>\n",
       "      <th>2010</th>\n",
       "      <th>2011</th>\n",
       "      <th>2012</th>\n",
       "      <th>2013</th>\n",
       "      <th>2014</th>\n",
       "      <th>2015</th>\n",
       "      <th>2016</th>\n",
       "    </tr>\n",
       "  </thead>\n",
       "  <tbody>\n",
       "    <tr>\n",
       "      <th>0</th>\n",
       "      <td>Bermuda</td>\n",
       "      <td>BMU</td>\n",
       "      <td>Tax revenue (% of GDP)</td>\n",
       "      <td>GC.TAX.TOTL.GD.ZS</td>\n",
       "      <td>None</td>\n",
       "      <td>None</td>\n",
       "      <td>None</td>\n",
       "      <td>None</td>\n",
       "      <td>None</td>\n",
       "      <td>None</td>\n",
       "      <td>...</td>\n",
       "      <td>None</td>\n",
       "      <td>None</td>\n",
       "      <td>None</td>\n",
       "      <td>None</td>\n",
       "      <td>None</td>\n",
       "      <td>None</td>\n",
       "      <td>None</td>\n",
       "      <td>None</td>\n",
       "      <td>None</td>\n",
       "      <td>None</td>\n",
       "    </tr>\n",
       "    <tr>\n",
       "      <th>1</th>\n",
       "      <td>East Asia &amp; Pacific (IDA &amp; IBRD countries)</td>\n",
       "      <td>TEA</td>\n",
       "      <td>Tax revenue (% of GDP)</td>\n",
       "      <td>GC.TAX.TOTL.GD.ZS</td>\n",
       "      <td>None</td>\n",
       "      <td>None</td>\n",
       "      <td>None</td>\n",
       "      <td>None</td>\n",
       "      <td>None</td>\n",
       "      <td>None</td>\n",
       "      <td>...</td>\n",
       "      <td>10.5211232605849</td>\n",
       "      <td>11.0512571856422</td>\n",
       "      <td>10.8993770066324</td>\n",
       "      <td>10.8236623308498</td>\n",
       "      <td>11.0734365585208</td>\n",
       "      <td>None</td>\n",
       "      <td>10.7913613491258</td>\n",
       "      <td>10.3669821984149</td>\n",
       "      <td>None</td>\n",
       "      <td>None</td>\n",
       "    </tr>\n",
       "    <tr>\n",
       "      <th>2</th>\n",
       "      <td>Bhutan</td>\n",
       "      <td>BTN</td>\n",
       "      <td>Tax revenue (% of GDP)</td>\n",
       "      <td>GC.TAX.TOTL.GD.ZS</td>\n",
       "      <td>None</td>\n",
       "      <td>None</td>\n",
       "      <td>None</td>\n",
       "      <td>None</td>\n",
       "      <td>None</td>\n",
       "      <td>None</td>\n",
       "      <td>...</td>\n",
       "      <td>7.51946726950630</td>\n",
       "      <td>8.41593233961713</td>\n",
       "      <td>9.23552702504043</td>\n",
       "      <td>13.1432965226147</td>\n",
       "      <td>13.5075777539729</td>\n",
       "      <td>14.7041481596257</td>\n",
       "      <td>14.3778834457536</td>\n",
       "      <td>13.3368926386372</td>\n",
       "      <td>None</td>\n",
       "      <td>None</td>\n",
       "    </tr>\n",
       "    <tr>\n",
       "      <th>3</th>\n",
       "      <td>Bolivia</td>\n",
       "      <td>BOL</td>\n",
       "      <td>Tax revenue (% of GDP)</td>\n",
       "      <td>GC.TAX.TOTL.GD.ZS</td>\n",
       "      <td>None</td>\n",
       "      <td>None</td>\n",
       "      <td>None</td>\n",
       "      <td>None</td>\n",
       "      <td>None</td>\n",
       "      <td>None</td>\n",
       "      <td>...</td>\n",
       "      <td>16.9648957779373</td>\n",
       "      <td>None</td>\n",
       "      <td>None</td>\n",
       "      <td>None</td>\n",
       "      <td>None</td>\n",
       "      <td>None</td>\n",
       "      <td>None</td>\n",
       "      <td>None</td>\n",
       "      <td>None</td>\n",
       "      <td>None</td>\n",
       "    </tr>\n",
       "    <tr>\n",
       "      <th>4</th>\n",
       "      <td>Bosnia and Herzegovina</td>\n",
       "      <td>BIH</td>\n",
       "      <td>Tax revenue (% of GDP)</td>\n",
       "      <td>GC.TAX.TOTL.GD.ZS</td>\n",
       "      <td>None</td>\n",
       "      <td>None</td>\n",
       "      <td>None</td>\n",
       "      <td>None</td>\n",
       "      <td>None</td>\n",
       "      <td>None</td>\n",
       "      <td>...</td>\n",
       "      <td>21.3974496867264</td>\n",
       "      <td>20.3141077335623</td>\n",
       "      <td>18.9605013977038</td>\n",
       "      <td>19.7000140636424</td>\n",
       "      <td>20.3224260222236</td>\n",
       "      <td>20.5007238483636</td>\n",
       "      <td>19.7778885682037</td>\n",
       "      <td>19.8172706811392</td>\n",
       "      <td>19.9688147877335</td>\n",
       "      <td>None</td>\n",
       "    </tr>\n",
       "  </tbody>\n",
       "</table>\n",
       "<p>5 rows × 61 columns</p>\n",
       "</div>"
      ],
      "text/plain": [
       "                                 Country Name Country Code  \\\n",
       "0                                     Bermuda          BMU   \n",
       "1  East Asia & Pacific (IDA & IBRD countries)          TEA   \n",
       "2                                      Bhutan          BTN   \n",
       "3                                     Bolivia          BOL   \n",
       "4                      Bosnia and Herzegovina          BIH   \n",
       "\n",
       "           Indicator Name     Indicator Code  1960  1961  1962  1963  1964  \\\n",
       "0  Tax revenue (% of GDP)  GC.TAX.TOTL.GD.ZS  None  None  None  None  None   \n",
       "1  Tax revenue (% of GDP)  GC.TAX.TOTL.GD.ZS  None  None  None  None  None   \n",
       "2  Tax revenue (% of GDP)  GC.TAX.TOTL.GD.ZS  None  None  None  None  None   \n",
       "3  Tax revenue (% of GDP)  GC.TAX.TOTL.GD.ZS  None  None  None  None  None   \n",
       "4  Tax revenue (% of GDP)  GC.TAX.TOTL.GD.ZS  None  None  None  None  None   \n",
       "\n",
       "   1965  ...               2007              2008              2009  \\\n",
       "0  None  ...               None              None              None   \n",
       "1  None  ...   10.5211232605849  11.0512571856422  10.8993770066324   \n",
       "2  None  ...   7.51946726950630  8.41593233961713  9.23552702504043   \n",
       "3  None  ...   16.9648957779373              None              None   \n",
       "4  None  ...   21.3974496867264  20.3141077335623  18.9605013977038   \n",
       "\n",
       "               2010              2011              2012              2013  \\\n",
       "0              None              None              None              None   \n",
       "1  10.8236623308498  11.0734365585208              None  10.7913613491258   \n",
       "2  13.1432965226147  13.5075777539729  14.7041481596257  14.3778834457536   \n",
       "3              None              None              None              None   \n",
       "4  19.7000140636424  20.3224260222236  20.5007238483636  19.7778885682037   \n",
       "\n",
       "               2014              2015  2016  \n",
       "0              None              None  None  \n",
       "1  10.3669821984149              None  None  \n",
       "2  13.3368926386372              None  None  \n",
       "3              None              None  None  \n",
       "4  19.8172706811392  19.9688147877335  None  \n",
       "\n",
       "[5 rows x 61 columns]"
      ]
     },
     "execution_count": 35,
     "metadata": {},
     "output_type": "execute_result"
    }
   ],
   "source": [
    "print(pop_dataframe.shape)\n",
    "pop_dataframe.head()"
   ]
  },
  {
   "cell_type": "code",
   "execution_count": 36,
   "metadata": {
    "collapsed": true
   },
   "outputs": [],
   "source": [
    "id_vars = ['Country Name', 'Country Code', 'Indicator Name', 'Indicator Code']\n",
    "pop_dataframe = pd.melt(pop_dataframe, \n",
    "                        id_vars=id_vars,\n",
    "                        value_vars=pop_dataframe.columns[4:].values, \n",
    "                        var_name='Year', \n",
    "                        value_name='Tax_Rev_Percent_GDP')"
   ]
  },
  {
   "cell_type": "code",
   "execution_count": 37,
   "metadata": {},
   "outputs": [
    {
     "name": "stdout",
     "output_type": "stream",
     "text": [
      "(15048, 6)\n"
     ]
    },
    {
     "data": {
      "text/html": [
       "<div>\n",
       "<style>\n",
       "    .dataframe thead tr:only-child th {\n",
       "        text-align: right;\n",
       "    }\n",
       "\n",
       "    .dataframe thead th {\n",
       "        text-align: left;\n",
       "    }\n",
       "\n",
       "    .dataframe tbody tr th {\n",
       "        vertical-align: top;\n",
       "    }\n",
       "</style>\n",
       "<table border=\"1\" class=\"dataframe\">\n",
       "  <thead>\n",
       "    <tr style=\"text-align: right;\">\n",
       "      <th></th>\n",
       "      <th>Country Name</th>\n",
       "      <th>Country Code</th>\n",
       "      <th>Indicator Name</th>\n",
       "      <th>Indicator Code</th>\n",
       "      <th>Year</th>\n",
       "      <th>Tax_Rev_Percent_GDP</th>\n",
       "    </tr>\n",
       "  </thead>\n",
       "  <tbody>\n",
       "    <tr>\n",
       "      <th>0</th>\n",
       "      <td>Bermuda</td>\n",
       "      <td>BMU</td>\n",
       "      <td>Tax revenue (% of GDP)</td>\n",
       "      <td>GC.TAX.TOTL.GD.ZS</td>\n",
       "      <td>1960</td>\n",
       "      <td>None</td>\n",
       "    </tr>\n",
       "    <tr>\n",
       "      <th>1</th>\n",
       "      <td>East Asia &amp; Pacific (IDA &amp; IBRD countries)</td>\n",
       "      <td>TEA</td>\n",
       "      <td>Tax revenue (% of GDP)</td>\n",
       "      <td>GC.TAX.TOTL.GD.ZS</td>\n",
       "      <td>1960</td>\n",
       "      <td>None</td>\n",
       "    </tr>\n",
       "    <tr>\n",
       "      <th>2</th>\n",
       "      <td>Bhutan</td>\n",
       "      <td>BTN</td>\n",
       "      <td>Tax revenue (% of GDP)</td>\n",
       "      <td>GC.TAX.TOTL.GD.ZS</td>\n",
       "      <td>1960</td>\n",
       "      <td>None</td>\n",
       "    </tr>\n",
       "    <tr>\n",
       "      <th>3</th>\n",
       "      <td>Bolivia</td>\n",
       "      <td>BOL</td>\n",
       "      <td>Tax revenue (% of GDP)</td>\n",
       "      <td>GC.TAX.TOTL.GD.ZS</td>\n",
       "      <td>1960</td>\n",
       "      <td>None</td>\n",
       "    </tr>\n",
       "    <tr>\n",
       "      <th>4</th>\n",
       "      <td>Bosnia and Herzegovina</td>\n",
       "      <td>BIH</td>\n",
       "      <td>Tax revenue (% of GDP)</td>\n",
       "      <td>GC.TAX.TOTL.GD.ZS</td>\n",
       "      <td>1960</td>\n",
       "      <td>None</td>\n",
       "    </tr>\n",
       "  </tbody>\n",
       "</table>\n",
       "</div>"
      ],
      "text/plain": [
       "                                 Country Name Country Code  \\\n",
       "0                                     Bermuda          BMU   \n",
       "1  East Asia & Pacific (IDA & IBRD countries)          TEA   \n",
       "2                                      Bhutan          BTN   \n",
       "3                                     Bolivia          BOL   \n",
       "4                      Bosnia and Herzegovina          BIH   \n",
       "\n",
       "           Indicator Name     Indicator Code  Year Tax_Rev_Percent_GDP  \n",
       "0  Tax revenue (% of GDP)  GC.TAX.TOTL.GD.ZS  1960                None  \n",
       "1  Tax revenue (% of GDP)  GC.TAX.TOTL.GD.ZS  1960                None  \n",
       "2  Tax revenue (% of GDP)  GC.TAX.TOTL.GD.ZS  1960                None  \n",
       "3  Tax revenue (% of GDP)  GC.TAX.TOTL.GD.ZS  1960                None  \n",
       "4  Tax revenue (% of GDP)  GC.TAX.TOTL.GD.ZS  1960                None  "
      ]
     },
     "execution_count": 37,
     "metadata": {},
     "output_type": "execute_result"
    }
   ],
   "source": [
    "print(pop_dataframe.shape)\n",
    "pop_dataframe.head()"
   ]
  },
  {
   "cell_type": "markdown",
   "metadata": {},
   "source": [
    "**transform from \"long\" to \"wide\" using pivot_table**"
   ]
  },
  {
   "cell_type": "code",
   "execution_count": 38,
   "metadata": {
    "collapsed": true
   },
   "outputs": [],
   "source": [
    "# convert to numeric (errors='coerce' to convert strings to np.nan)\n",
    "pop_dataframe['Tax_Rev_Percent_GDP'] = pd.to_numeric(pop_dataframe.Tax_Rev_Percent_GDP, \n",
    "                                                                       errors='coerce')\n",
    "                     \n",
    "# pivot from long to wide\n",
    "index = ['Country Name', 'Country Code', 'Indicator Name', 'Indicator Code']\n",
    "pop_dataframe = pd.pivot_table(pop_dataframe, \n",
    "                               values='Tax_Rev_Percent_GDP', \n",
    "                               columns=['Year'],\n",
    "                               index=index,\n",
    "                               aggfunc=np.mean)\n",
    "# reset index\n",
    "pop_dataframe.reset_index(inplace=True)"
   ]
  },
  {
   "cell_type": "code",
   "execution_count": 39,
   "metadata": {},
   "outputs": [
    {
     "name": "stdout",
     "output_type": "stream",
     "text": [
      "(264, 48)\n"
     ]
    },
    {
     "data": {
      "text/html": [
       "<div>\n",
       "<style>\n",
       "    .dataframe thead tr:only-child th {\n",
       "        text-align: right;\n",
       "    }\n",
       "\n",
       "    .dataframe thead th {\n",
       "        text-align: left;\n",
       "    }\n",
       "\n",
       "    .dataframe tbody tr th {\n",
       "        vertical-align: top;\n",
       "    }\n",
       "</style>\n",
       "<table border=\"1\" class=\"dataframe\">\n",
       "  <thead>\n",
       "    <tr style=\"text-align: right;\">\n",
       "      <th>Year</th>\n",
       "      <th>Country Name</th>\n",
       "      <th>Country Code</th>\n",
       "      <th>Indicator Name</th>\n",
       "      <th>Indicator Code</th>\n",
       "      <th>1972</th>\n",
       "      <th>1973</th>\n",
       "      <th>1974</th>\n",
       "      <th>1975</th>\n",
       "      <th>1976</th>\n",
       "      <th>1977</th>\n",
       "      <th>...</th>\n",
       "      <th>2006</th>\n",
       "      <th>2007</th>\n",
       "      <th>2008</th>\n",
       "      <th>2009</th>\n",
       "      <th>2010</th>\n",
       "      <th>2011</th>\n",
       "      <th>2012</th>\n",
       "      <th>2013</th>\n",
       "      <th>2014</th>\n",
       "      <th>2015</th>\n",
       "    </tr>\n",
       "  </thead>\n",
       "  <tbody>\n",
       "    <tr>\n",
       "      <th>0</th>\n",
       "      <td>Afghanistan</td>\n",
       "      <td>AFG</td>\n",
       "      <td>Tax revenue (% of GDP)</td>\n",
       "      <td>GC.TAX.TOTL.GD.ZS</td>\n",
       "      <td>NaN</td>\n",
       "      <td>NaN</td>\n",
       "      <td>NaN</td>\n",
       "      <td>NaN</td>\n",
       "      <td>NaN</td>\n",
       "      <td>NaN</td>\n",
       "      <td>...</td>\n",
       "      <td>6.883364</td>\n",
       "      <td>5.229756</td>\n",
       "      <td>6.039428</td>\n",
       "      <td>8.434998</td>\n",
       "      <td>9.123651</td>\n",
       "      <td>8.854568</td>\n",
       "      <td>7.471639</td>\n",
       "      <td>7.158330</td>\n",
       "      <td>NaN</td>\n",
       "      <td>NaN</td>\n",
       "    </tr>\n",
       "    <tr>\n",
       "      <th>1</th>\n",
       "      <td>Albania</td>\n",
       "      <td>ALB</td>\n",
       "      <td>Tax revenue (% of GDP)</td>\n",
       "      <td>GC.TAX.TOTL.GD.ZS</td>\n",
       "      <td>NaN</td>\n",
       "      <td>NaN</td>\n",
       "      <td>NaN</td>\n",
       "      <td>NaN</td>\n",
       "      <td>NaN</td>\n",
       "      <td>NaN</td>\n",
       "      <td>...</td>\n",
       "      <td>NaN</td>\n",
       "      <td>NaN</td>\n",
       "      <td>NaN</td>\n",
       "      <td>NaN</td>\n",
       "      <td>NaN</td>\n",
       "      <td>NaN</td>\n",
       "      <td>NaN</td>\n",
       "      <td>16.839672</td>\n",
       "      <td>18.313552</td>\n",
       "      <td>NaN</td>\n",
       "    </tr>\n",
       "    <tr>\n",
       "      <th>2</th>\n",
       "      <td>Algeria</td>\n",
       "      <td>DZA</td>\n",
       "      <td>Tax revenue (% of GDP)</td>\n",
       "      <td>GC.TAX.TOTL.GD.ZS</td>\n",
       "      <td>NaN</td>\n",
       "      <td>NaN</td>\n",
       "      <td>NaN</td>\n",
       "      <td>NaN</td>\n",
       "      <td>NaN</td>\n",
       "      <td>NaN</td>\n",
       "      <td>...</td>\n",
       "      <td>40.750393</td>\n",
       "      <td>37.431012</td>\n",
       "      <td>45.252935</td>\n",
       "      <td>35.142903</td>\n",
       "      <td>34.402769</td>\n",
       "      <td>37.185853</td>\n",
       "      <td>NaN</td>\n",
       "      <td>NaN</td>\n",
       "      <td>NaN</td>\n",
       "      <td>NaN</td>\n",
       "    </tr>\n",
       "    <tr>\n",
       "      <th>3</th>\n",
       "      <td>American Samoa</td>\n",
       "      <td>ASM</td>\n",
       "      <td>Tax revenue (% of GDP)</td>\n",
       "      <td>GC.TAX.TOTL.GD.ZS</td>\n",
       "      <td>NaN</td>\n",
       "      <td>NaN</td>\n",
       "      <td>NaN</td>\n",
       "      <td>NaN</td>\n",
       "      <td>NaN</td>\n",
       "      <td>NaN</td>\n",
       "      <td>...</td>\n",
       "      <td>NaN</td>\n",
       "      <td>NaN</td>\n",
       "      <td>NaN</td>\n",
       "      <td>NaN</td>\n",
       "      <td>NaN</td>\n",
       "      <td>NaN</td>\n",
       "      <td>NaN</td>\n",
       "      <td>NaN</td>\n",
       "      <td>NaN</td>\n",
       "      <td>NaN</td>\n",
       "    </tr>\n",
       "    <tr>\n",
       "      <th>4</th>\n",
       "      <td>Andorra</td>\n",
       "      <td>ADO</td>\n",
       "      <td>Tax revenue (% of GDP)</td>\n",
       "      <td>GC.TAX.TOTL.GD.ZS</td>\n",
       "      <td>NaN</td>\n",
       "      <td>NaN</td>\n",
       "      <td>NaN</td>\n",
       "      <td>NaN</td>\n",
       "      <td>NaN</td>\n",
       "      <td>NaN</td>\n",
       "      <td>...</td>\n",
       "      <td>NaN</td>\n",
       "      <td>NaN</td>\n",
       "      <td>NaN</td>\n",
       "      <td>NaN</td>\n",
       "      <td>NaN</td>\n",
       "      <td>NaN</td>\n",
       "      <td>NaN</td>\n",
       "      <td>NaN</td>\n",
       "      <td>NaN</td>\n",
       "      <td>NaN</td>\n",
       "    </tr>\n",
       "  </tbody>\n",
       "</table>\n",
       "<p>5 rows × 48 columns</p>\n",
       "</div>"
      ],
      "text/plain": [
       "Year    Country Name Country Code          Indicator Name     Indicator Code  \\\n",
       "0        Afghanistan          AFG  Tax revenue (% of GDP)  GC.TAX.TOTL.GD.ZS   \n",
       "1            Albania          ALB  Tax revenue (% of GDP)  GC.TAX.TOTL.GD.ZS   \n",
       "2            Algeria          DZA  Tax revenue (% of GDP)  GC.TAX.TOTL.GD.ZS   \n",
       "3     American Samoa          ASM  Tax revenue (% of GDP)  GC.TAX.TOTL.GD.ZS   \n",
       "4            Andorra          ADO  Tax revenue (% of GDP)  GC.TAX.TOTL.GD.ZS   \n",
       "\n",
       "Year  1972  1973  1974  1975  1976  1977  ...        2006       2007  \\\n",
       "0      NaN   NaN   NaN   NaN   NaN   NaN  ...    6.883364   5.229756   \n",
       "1      NaN   NaN   NaN   NaN   NaN   NaN  ...         NaN        NaN   \n",
       "2      NaN   NaN   NaN   NaN   NaN   NaN  ...   40.750393  37.431012   \n",
       "3      NaN   NaN   NaN   NaN   NaN   NaN  ...         NaN        NaN   \n",
       "4      NaN   NaN   NaN   NaN   NaN   NaN  ...         NaN        NaN   \n",
       "\n",
       "Year       2008       2009       2010       2011      2012       2013  \\\n",
       "0      6.039428   8.434998   9.123651   8.854568  7.471639   7.158330   \n",
       "1           NaN        NaN        NaN        NaN       NaN  16.839672   \n",
       "2     45.252935  35.142903  34.402769  37.185853       NaN        NaN   \n",
       "3           NaN        NaN        NaN        NaN       NaN        NaN   \n",
       "4           NaN        NaN        NaN        NaN       NaN        NaN   \n",
       "\n",
       "Year       2014  2015  \n",
       "0           NaN   NaN  \n",
       "1     18.313552   NaN  \n",
       "2           NaN   NaN  \n",
       "3           NaN   NaN  \n",
       "4           NaN   NaN  \n",
       "\n",
       "[5 rows x 48 columns]"
      ]
     },
     "execution_count": 39,
     "metadata": {},
     "output_type": "execute_result"
    }
   ],
   "source": [
    "print(pop_dataframe.shape)\n",
    "pop_dataframe.head()\n",
    "# note that columns where all items were NaN were automatically dropped, \n",
    "# reducing the number of columns to 48."
   ]
  },
  {
   "cell_type": "markdown",
   "metadata": {},
   "source": [
    "Thanks for reading this notebook. I hope you enjoyed it!"
   ]
  },
  {
   "cell_type": "code",
   "execution_count": null,
   "metadata": {
    "collapsed": true
   },
   "outputs": [],
   "source": []
  }
 ],
 "metadata": {
  "kernelspec": {
   "display_name": "Python 3",
   "language": "python",
   "name": "python3"
  },
  "language_info": {
   "codemirror_mode": {
    "name": "ipython",
    "version": 3
   },
   "file_extension": ".py",
   "mimetype": "text/x-python",
   "name": "python",
   "nbconvert_exporter": "python",
   "pygments_lexer": "ipython3",
   "version": "3.6.1"
  },
  "toc": {
   "colors": {
    "hover_highlight": "#DAA520",
    "navigate_num": "#000000",
    "navigate_text": "#333333",
    "running_highlight": "#FF0000",
    "selected_highlight": "#FFD700",
    "sidebar_border": "#EEEEEE",
    "wrapper_background": "#FFFFFF"
   },
   "moveMenuLeft": true,
   "nav_menu": {
    "height": "233px",
    "width": "252px"
   },
   "navigate_menu": true,
   "number_sections": false,
   "sideBar": true,
   "threshold": 4,
   "toc_cell": true,
   "toc_position": {
    "height": "584px",
    "left": "0px",
    "right": "895.2px",
    "top": "109px",
    "width": "212px"
   },
   "toc_section_display": "block",
   "toc_window_display": false,
   "widenNotebook": false
  },
  "varInspector": {
   "cols": {
    "lenName": 16,
    "lenType": 16,
    "lenVar": 40
   },
   "kernels_config": {
    "python": {
     "delete_cmd_postfix": "",
     "delete_cmd_prefix": "del ",
     "library": "var_list.py",
     "varRefreshCmd": "print(var_dic_list())"
    },
    "r": {
     "delete_cmd_postfix": ") ",
     "delete_cmd_prefix": "rm(",
     "library": "var_list.r",
     "varRefreshCmd": "cat(var_dic_list()) "
    }
   },
   "position": {
    "height": "710px",
    "left": "527.96px",
    "right": "20px",
    "top": "104.983px",
    "width": "650px"
   },
   "types_to_exclude": [
    "module",
    "function",
    "builtin_function_or_method",
    "instance",
    "_Feature"
   ],
   "window_display": false
  }
 },
 "nbformat": 4,
 "nbformat_minor": 2
}
